{
 "cells": [
  {
   "cell_type": "code",
   "execution_count": 1,
   "metadata": {},
   "outputs": [],
   "source": [
    "import pandas as pd\n",
    "import numpy as np\n",
    "from sklearn.model_selection import train_test_split\n",
    "\n",
    "from sklearn.utils import class_weight\n",
    "\n",
    "import tensorflow as tf\n",
    "from tensorflow.keras.preprocessing.image import ImageDataGenerator\n",
    "\n",
    "import keras\n",
    "from keras.preprocessing.image import load_img, img_to_array\n",
    "from keras.applications import EfficientNetB2\n",
    "from keras.layers import GlobalAveragePooling2D, Dense, Dropout, concatenate, Flatten, Input, Concatenate\n",
    "from keras import layers, models, regularizers, Model, optimizers\n",
    "from keras.losses import CategoricalCrossentropy\n",
    "from keras.callbacks import EarlyStopping, ReduceLROnPlateau"
   ]
  },
  {
   "cell_type": "code",
   "execution_count": 2,
   "metadata": {},
   "outputs": [],
   "source": [
    "target_size = (260, 260)\n",
    "batch_size = 32\n",
    "num_classes = 21"
   ]
  },
  {
   "cell_type": "code",
   "execution_count": 3,
   "metadata": {},
   "outputs": [],
   "source": [
    "path = \"../bttai-ajl-2025/train/train\"\n",
    "df = pd.read_csv(\"../bttai-ajl-2025/train.csv\")\n",
    "\n",
    "df['md5hash'] = df['md5hash'].astype(str) + '.jpg'\n",
    "\n",
    "# Combine label and md5hash to form the correct path\n",
    "df['file_path'] = df['label'] + '/' + df['md5hash']"
   ]
  },
  {
   "cell_type": "code",
   "execution_count": 4,
   "metadata": {},
   "outputs": [
    {
     "data": {
      "text/plain": [
       "Index(['md5hash', 'fitzpatrick_scale', 'fitzpatrick_centaur', 'label',\n",
       "       'nine_partition_label', 'three_partition_label', 'qc', 'ddi_scale',\n",
       "       'file_path'],\n",
       "      dtype='object')"
      ]
     },
     "execution_count": 4,
     "metadata": {},
     "output_type": "execute_result"
    }
   ],
   "source": [
    "df.columns"
   ]
  },
  {
   "cell_type": "code",
   "execution_count": 5,
   "metadata": {},
   "outputs": [
    {
     "data": {
      "text/plain": [
       "three_partition_label  nine_partition_label          label                             \n",
       "benign                 benign-dermal                 dermatofibroma                         55\n",
       "                                                     pyogenic-granuloma                     79\n",
       "                       benign-epidermal              epidermal-nevus                        64\n",
       "                                                     prurigo-nodularis                     119\n",
       "                                                     seborrheic-keratosis                   48\n",
       "malignant              malignant-cutaneous-lymphoma  mycosis-fungoides                     127\n",
       "                       malignant-dermal              kaposi-sarcoma                        109\n",
       "                       malignant-epidermal           actinic-keratosis                     122\n",
       "                                                     basal-cell-carcinoma                  328\n",
       "                                                     basal-cell-carcinoma-morpheiform       43\n",
       "                                                     squamous-cell-carcinoma               407\n",
       "                       malignant-melanoma            malignant-melanoma                     78\n",
       "                                                     melanoma                              181\n",
       "                                                     superficial-spreading-melanoma-ssm     83\n",
       "non-neoplastic         inflammatory                  acne                                  128\n",
       "                                                     acne-vulgaris                         234\n",
       "                                                     dermatomyositis                       106\n",
       "                                                     dyshidrotic-eczema                     58\n",
       "                                                     eczema                                143\n",
       "                                                     folliculitis                          239\n",
       "                                                     keloid                                109\n",
       "dtype: int64"
      ]
     },
     "execution_count": 5,
     "metadata": {},
     "output_type": "execute_result"
    }
   ],
   "source": [
    "df.groupby(['three_partition_label', 'nine_partition_label', 'label']).size()"
   ]
  },
  {
   "cell_type": "code",
   "execution_count": 6,
   "metadata": {},
   "outputs": [],
   "source": [
    "df = df[df[\"qc\"] != \"3 Wrongly labelled\"].copy()\n",
    "\n",
    "df = df.drop(columns=[\"qc\"])\n"
   ]
  },
  {
   "cell_type": "code",
   "execution_count": 7,
   "metadata": {},
   "outputs": [],
   "source": [
    "def sample_indices_per_class(y, num_samples=291):\n",
    "    unique_classes = np.unique(y)\n",
    "    sampled_indices = []\n",
    "\n",
    "    for cls in unique_classes:\n",
    "        class_indices = np.where(y == cls)[0]  # Get indices for this class\n",
    "        sampled_cls_indices = np.random.choice(class_indices, num_samples, replace=False)  # Sample 291\n",
    "        sampled_indices.extend(sampled_cls_indices)\n",
    "    \n",
    "    return np.array(sampled_indices)"
   ]
  },
  {
   "cell_type": "code",
   "execution_count": 8,
   "metadata": {},
   "outputs": [],
   "source": [
    "sampled_indices  = sample_indices_per_class(df.three_partition_label)\n",
    "\n",
    "balanced_df = df.iloc[sampled_indices].copy()"
   ]
  },
  {
   "cell_type": "code",
   "execution_count": 9,
   "metadata": {},
   "outputs": [
    {
     "data": {
      "text/plain": [
       "three_partition_label\n",
       "benign            291\n",
       "malignant         291\n",
       "non-neoplastic    291\n",
       "Name: count, dtype: int64"
      ]
     },
     "execution_count": 9,
     "metadata": {},
     "output_type": "execute_result"
    }
   ],
   "source": [
    "balanced_df.three_partition_label.value_counts()"
   ]
  },
  {
   "cell_type": "code",
   "execution_count": 10,
   "metadata": {},
   "outputs": [],
   "source": [
    "train_df, validation_df = train_test_split(df, \n",
    "                                           test_size = 0.2, \n",
    "                                           stratify=df[\"three_partition_label\"],\n",
    "                                           random_state=42)"
   ]
  },
  {
   "cell_type": "code",
   "execution_count": 11,
   "metadata": {},
   "outputs": [
    {
     "data": {
      "text/plain": [
       "three_partition_label\n",
       "malignant         1182\n",
       "non-neoplastic     811\n",
       "benign             291\n",
       "Name: count, dtype: int64"
      ]
     },
     "execution_count": 11,
     "metadata": {},
     "output_type": "execute_result"
    }
   ],
   "source": [
    "train_df.three_partition_label.value_counts()"
   ]
  },
  {
   "cell_type": "code",
   "execution_count": 12,
   "metadata": {},
   "outputs": [
    {
     "data": {
      "text/plain": [
       "three_partition_label\n",
       "malignant         296\n",
       "non-neoplastic    203\n",
       "benign             73\n",
       "Name: count, dtype: int64"
      ]
     },
     "execution_count": 12,
     "metadata": {},
     "output_type": "execute_result"
    }
   ],
   "source": [
    "validation_df.three_partition_label.value_counts()"
   ]
  },
  {
   "cell_type": "code",
   "execution_count": 13,
   "metadata": {},
   "outputs": [
    {
     "name": "stdout",
     "output_type": "stream",
     "text": [
      "Found 2284 validated image filenames belonging to 3 classes.\n",
      "Found 572 validated image filenames belonging to 3 classes.\n"
     ]
    }
   ],
   "source": [
    "train_datagen = ImageDataGenerator(\n",
    "    # we have to use efficient net preprocessing lib to be consistent\n",
    "    preprocessing_function=tf.keras.applications.efficientnet.preprocess_input,\n",
    "    rotation_range = 30,\n",
    "    shear_range=0.2,\n",
    "    zoom_range=0.2,\n",
    "    # we may not need this if we use efficient net since we have to resize anyway\n",
    "    # rescale = 1./255,\n",
    "    horizontal_flip = True,\n",
    "    vertical_flip = True,\n",
    "    brightness_range=[0.7, 1.2],\n",
    "    height_shift_range = 0.1,\n",
    "    width_shift_range = 0.1\n",
    ")\n",
    "\n",
    "validation_datagen = ImageDataGenerator(\n",
    "    preprocessing_function=tf.keras.applications.efficientnet.preprocess_input\n",
    ")\n",
    "\n",
    "# flow the data into the datagens\n",
    "train_data = train_datagen.flow_from_dataframe(\n",
    "    dataframe = train_df,\n",
    "    directory = path,\n",
    "    x_col = \"file_path\",\n",
    "    y_col = \"three_partition_label\",\n",
    "    target_size = target_size,\n",
    "    batch_size = batch_size,\n",
    "    class_mode = \"categorical\",\n",
    "    seed = 42\n",
    ")\n",
    "\n",
    "val_data = validation_datagen.flow_from_dataframe(\n",
    "    dataframe = validation_df,\n",
    "    directory = path,\n",
    "    x_col = \"file_path\",\n",
    "    y_col = \"three_partition_label\",\n",
    "    target_size = target_size,\n",
    "    batch_size = batch_size,\n",
    "    class_mode = \"categorical\",\n",
    "    seed=42\n",
    ")"
   ]
  },
  {
   "cell_type": "code",
   "execution_count": 14,
   "metadata": {},
   "outputs": [
    {
     "data": {
      "text/plain": [
       "{'benign': 0, 'malignant': 1, 'non-neoplastic': 2}"
      ]
     },
     "execution_count": 14,
     "metadata": {},
     "output_type": "execute_result"
    }
   ],
   "source": [
    "train_data.class_indices"
   ]
  },
  {
   "cell_type": "code",
   "execution_count": 15,
   "metadata": {},
   "outputs": [
    {
     "data": {
      "text/plain": [
       "{'benign': 0, 'malignant': 1, 'non-neoplastic': 2}"
      ]
     },
     "execution_count": 15,
     "metadata": {},
     "output_type": "execute_result"
    }
   ],
   "source": [
    "val_data.class_indices"
   ]
  },
  {
   "cell_type": "code",
   "execution_count": 16,
   "metadata": {},
   "outputs": [
    {
     "name": "stdout",
     "output_type": "stream",
     "text": [
      "Class Weights: {0: 2.616265750286369, 1: 0.6441060349689791, 2: 0.9387587340731607}\n"
     ]
    }
   ],
   "source": [
    "train_classes = train_data.classes\n",
    "cw = class_weight.compute_class_weight(\n",
    "    # we need it balanced duh lol\n",
    "    class_weight=\"balanced\",\n",
    "    classes=np.unique(train_classes),\n",
    "    y=train_classes\n",
    ")\n",
    "class_weights = dict(enumerate(cw))\n",
    "\n",
    "print(\"Class Weights:\", class_weights)"
   ]
  },
  {
   "cell_type": "code",
   "execution_count": 1,
   "metadata": {},
   "outputs": [
    {
     "ename": "NameError",
     "evalue": "name 'EfficientNetB2' is not defined",
     "output_type": "error",
     "traceback": [
      "\u001b[1;31m---------------------------------------------------------------------------\u001b[0m",
      "\u001b[1;31mNameError\u001b[0m                                 Traceback (most recent call last)",
      "Cell \u001b[1;32mIn[1], line 1\u001b[0m\n\u001b[1;32m----> 1\u001b[0m base_model \u001b[38;5;241m=\u001b[39m \u001b[43mEfficientNetB2\u001b[49m(\n\u001b[0;32m      2\u001b[0m     include_top\u001b[38;5;241m=\u001b[39m\u001b[38;5;28;01mFalse\u001b[39;00m,\n\u001b[0;32m      3\u001b[0m     weights\u001b[38;5;241m=\u001b[39m\u001b[38;5;124m\"\u001b[39m\u001b[38;5;124mimagenet\u001b[39m\u001b[38;5;124m\"\u001b[39m,\n\u001b[0;32m      4\u001b[0m     input_shape\u001b[38;5;241m=\u001b[39m(\u001b[38;5;241m260\u001b[39m, \u001b[38;5;241m260\u001b[39m, \u001b[38;5;241m3\u001b[39m)\n\u001b[0;32m      5\u001b[0m )\n\u001b[0;32m      6\u001b[0m \u001b[38;5;66;03m# make trianable false for now\u001b[39;00m\n\u001b[0;32m      7\u001b[0m base_model\u001b[38;5;241m.\u001b[39mtrainable \u001b[38;5;241m=\u001b[39m \u001b[38;5;28;01mTrue\u001b[39;00m\n",
      "\u001b[1;31mNameError\u001b[0m: name 'EfficientNetB2' is not defined"
     ]
    }
   ],
   "source": [
    "base_model = EfficientNetB2(\n",
    "    include_top=False,\n",
    "    weights=\"imagenet\",\n",
    "    input_shape=(260, 260, 3)\n",
    ")\n",
    "# make trianable false for now\n",
    "base_model.trainable = True"
   ]
  },
  {
   "cell_type": "code",
   "execution_count": 18,
   "metadata": {},
   "outputs": [],
   "source": [
    "x = base_model.output\n",
    "x = layers.GlobalAveragePooling2D()(x)\n",
    "\n",
    "# First Dense Layer with BatchNorm and L2 Regularization\n",
    "# x = layers.Dense(512, activation='relu', kernel_regularizer=regularizers.l2(0.001))(x)\n",
    "# x = layers.BatchNormalization()(x)  # Helps stabilize training\n",
    "# x = layers.Dropout(0.3)(x)  # Reduce to avoid excessive information loss\n",
    "\n",
    "# Second Dense Layer for more representation\n",
    "x = layers.Dense(256, activation='relu', kernel_regularizer=regularizers.l2(0.001))(x)\n",
    "x = layers.BatchNormalization()(x)\n",
    "x = layers.Dropout(0.5)(x)  \n",
    "\n",
    "outputs = layers.Dense(3, activation=\"softmax\")(x)\n",
    "\n",
    "# make/define the model\n",
    "model = models.Model(inputs=base_model.input, outputs=outputs)"
   ]
  },
  {
   "cell_type": "code",
   "execution_count": 19,
   "metadata": {},
   "outputs": [],
   "source": [
    "loss = CategoricalCrossentropy(label_smoothing=0.1)\n",
    "optimizer1 = optimizers.Adam(learning_rate=0.0003)\n",
    "optimizer2 = optimizers.SGD(learning_rate=0.0003)\n",
    "optimizer3 = optimizers.RMSprop(learning_rate=0.0003)\n",
    "\n",
    "model.compile(optimizer=optimizer1, \n",
    "              loss=loss, \n",
    "              metrics=['accuracy']\n",
    "             )"
   ]
  },
  {
   "cell_type": "code",
   "execution_count": 20,
   "metadata": {},
   "outputs": [],
   "source": [
    "callbacks = [\n",
    "    EarlyStopping(monitor='val_loss', patience=10, restore_best_weights=True),\n",
    "    ReduceLROnPlateau(monitor='val_loss', factor=0.5, patience=5, min_lr=1e-7)\n",
    "]"
   ]
  },
  {
   "cell_type": "code",
   "execution_count": 21,
   "metadata": {},
   "outputs": [
    {
     "name": "stderr",
     "output_type": "stream",
     "text": [
      "c:\\Users\\42128\\AppData\\Local\\Programs\\Python\\Python312\\Lib\\site-packages\\keras\\src\\trainers\\data_adapters\\py_dataset_adapter.py:121: UserWarning: Your `PyDataset` class should call `super().__init__(**kwargs)` in its constructor. `**kwargs` can include `workers`, `use_multiprocessing`, `max_queue_size`. Do not pass these arguments to `fit()`, as they will be ignored.\n",
      "  self._warn_if_super_not_called()\n"
     ]
    },
    {
     "name": "stdout",
     "output_type": "stream",
     "text": [
      "Epoch 1/20\n",
      "\u001b[1m72/72\u001b[0m \u001b[32m━━━━━━━━━━━━━━━━━━━━\u001b[0m\u001b[37m\u001b[0m \u001b[1m233s\u001b[0m 3s/step - accuracy: 0.4609 - loss: 2.0685 - val_accuracy: 0.5892 - val_loss: 1.3301 - learning_rate: 3.0000e-04\n",
      "Epoch 2/20\n",
      "\u001b[1m72/72\u001b[0m \u001b[32m━━━━━━━━━━━━━━━━━━━━\u001b[0m\u001b[37m\u001b[0m \u001b[1m204s\u001b[0m 3s/step - accuracy: 0.5922 - loss: 1.5798 - val_accuracy: 0.6294 - val_loss: 1.3331 - learning_rate: 3.0000e-04\n",
      "Epoch 3/20\n",
      "\u001b[1m72/72\u001b[0m \u001b[32m━━━━━━━━━━━━━━━━━━━━\u001b[0m\u001b[37m\u001b[0m \u001b[1m201s\u001b[0m 3s/step - accuracy: 0.6530 - loss: 1.4332 - val_accuracy: 0.6888 - val_loss: 1.2893 - learning_rate: 3.0000e-04\n",
      "Epoch 4/20\n",
      "\u001b[1m72/72\u001b[0m \u001b[32m━━━━━━━━━━━━━━━━━━━━\u001b[0m\u001b[37m\u001b[0m \u001b[1m191s\u001b[0m 3s/step - accuracy: 0.6785 - loss: 1.3773 - val_accuracy: 0.6923 - val_loss: 1.3218 - learning_rate: 3.0000e-04\n",
      "Epoch 5/20\n",
      "\u001b[1m72/72\u001b[0m \u001b[32m━━━━━━━━━━━━━━━━━━━━\u001b[0m\u001b[37m\u001b[0m \u001b[1m193s\u001b[0m 3s/step - accuracy: 0.7261 - loss: 1.2466 - val_accuracy: 0.7570 - val_loss: 1.2788 - learning_rate: 3.0000e-04\n",
      "Epoch 6/20\n",
      "\u001b[1m72/72\u001b[0m \u001b[32m━━━━━━━━━━━━━━━━━━━━\u001b[0m\u001b[37m\u001b[0m \u001b[1m193s\u001b[0m 3s/step - accuracy: 0.7852 - loss: 1.1189 - val_accuracy: 0.7465 - val_loss: 1.2757 - learning_rate: 3.0000e-04\n",
      "Epoch 7/20\n",
      "\u001b[1m72/72\u001b[0m \u001b[32m━━━━━━━━━━━━━━━━━━━━\u001b[0m\u001b[37m\u001b[0m \u001b[1m191s\u001b[0m 3s/step - accuracy: 0.7982 - loss: 1.1063 - val_accuracy: 0.7745 - val_loss: 1.2073 - learning_rate: 3.0000e-04\n",
      "Epoch 8/20\n",
      "\u001b[1m72/72\u001b[0m \u001b[32m━━━━━━━━━━━━━━━━━━━━\u001b[0m\u001b[37m\u001b[0m \u001b[1m190s\u001b[0m 3s/step - accuracy: 0.8169 - loss: 1.0490 - val_accuracy: 0.7535 - val_loss: 1.2237 - learning_rate: 3.0000e-04\n",
      "Epoch 9/20\n",
      "\u001b[1m72/72\u001b[0m \u001b[32m━━━━━━━━━━━━━━━━━━━━\u001b[0m\u001b[37m\u001b[0m \u001b[1m193s\u001b[0m 3s/step - accuracy: 0.8480 - loss: 0.9849 - val_accuracy: 0.7815 - val_loss: 1.1922 - learning_rate: 3.0000e-04\n",
      "Epoch 10/20\n",
      "\u001b[1m72/72\u001b[0m \u001b[32m━━━━━━━━━━━━━━━━━━━━\u001b[0m\u001b[37m\u001b[0m \u001b[1m191s\u001b[0m 3s/step - accuracy: 0.8702 - loss: 0.9495 - val_accuracy: 0.7797 - val_loss: 1.1828 - learning_rate: 3.0000e-04\n",
      "Epoch 11/20\n",
      "\u001b[1m72/72\u001b[0m \u001b[32m━━━━━━━━━━━━━━━━━━━━\u001b[0m\u001b[37m\u001b[0m \u001b[1m193s\u001b[0m 3s/step - accuracy: 0.8928 - loss: 0.9237 - val_accuracy: 0.7955 - val_loss: 1.1894 - learning_rate: 3.0000e-04\n",
      "Epoch 12/20\n",
      "\u001b[1m72/72\u001b[0m \u001b[32m━━━━━━━━━━━━━━━━━━━━\u001b[0m\u001b[37m\u001b[0m \u001b[1m192s\u001b[0m 3s/step - accuracy: 0.8877 - loss: 0.9160 - val_accuracy: 0.8357 - val_loss: 1.0928 - learning_rate: 3.0000e-04\n",
      "Epoch 13/20\n",
      "\u001b[1m72/72\u001b[0m \u001b[32m━━━━━━━━━━━━━━━━━━━━\u001b[0m\u001b[37m\u001b[0m \u001b[1m194s\u001b[0m 3s/step - accuracy: 0.9083 - loss: 0.8939 - val_accuracy: 0.8269 - val_loss: 1.1127 - learning_rate: 3.0000e-04\n",
      "Epoch 14/20\n",
      "\u001b[1m72/72\u001b[0m \u001b[32m━━━━━━━━━━━━━━━━━━━━\u001b[0m\u001b[37m\u001b[0m \u001b[1m194s\u001b[0m 3s/step - accuracy: 0.9228 - loss: 0.8697 - val_accuracy: 0.8147 - val_loss: 1.1079 - learning_rate: 3.0000e-04\n",
      "Epoch 15/20\n",
      "\u001b[1m72/72\u001b[0m \u001b[32m━━━━━━━━━━━━━━━━━━━━\u001b[0m\u001b[37m\u001b[0m \u001b[1m195s\u001b[0m 3s/step - accuracy: 0.9255 - loss: 0.8369 - val_accuracy: 0.8094 - val_loss: 1.1134 - learning_rate: 3.0000e-04\n",
      "Epoch 16/20\n",
      "\u001b[1m72/72\u001b[0m \u001b[32m━━━━━━━━━━━━━━━━━━━━\u001b[0m\u001b[37m\u001b[0m \u001b[1m194s\u001b[0m 3s/step - accuracy: 0.9311 - loss: 0.8249 - val_accuracy: 0.8322 - val_loss: 1.0355 - learning_rate: 3.0000e-04\n",
      "Epoch 17/20\n",
      "\u001b[1m72/72\u001b[0m \u001b[32m━━━━━━━━━━━━━━━━━━━━\u001b[0m\u001b[37m\u001b[0m \u001b[1m191s\u001b[0m 3s/step - accuracy: 0.9234 - loss: 0.8503 - val_accuracy: 0.8374 - val_loss: 1.0431 - learning_rate: 3.0000e-04\n",
      "Epoch 18/20\n",
      "\u001b[1m72/72\u001b[0m \u001b[32m━━━━━━━━━━━━━━━━━━━━\u001b[0m\u001b[37m\u001b[0m \u001b[1m190s\u001b[0m 3s/step - accuracy: 0.9450 - loss: 0.7911 - val_accuracy: 0.8304 - val_loss: 1.0303 - learning_rate: 3.0000e-04\n",
      "Epoch 19/20\n",
      "\u001b[1m72/72\u001b[0m \u001b[32m━━━━━━━━━━━━━━━━━━━━\u001b[0m\u001b[37m\u001b[0m \u001b[1m192s\u001b[0m 3s/step - accuracy: 0.9482 - loss: 0.7762 - val_accuracy: 0.8287 - val_loss: 0.9930 - learning_rate: 3.0000e-04\n",
      "Epoch 20/20\n",
      "\u001b[1m72/72\u001b[0m \u001b[32m━━━━━━━━━━━━━━━━━━━━\u001b[0m\u001b[37m\u001b[0m \u001b[1m192s\u001b[0m 3s/step - accuracy: 0.9457 - loss: 0.7671 - val_accuracy: 0.8392 - val_loss: 1.0006 - learning_rate: 3.0000e-04\n"
     ]
    }
   ],
   "source": [
    "history = model.fit(\n",
    "    train_data,\n",
    "    epochs=20,\n",
    "    validation_data=val_data,\n",
    "    callbacks=callbacks,\n",
    "    class_weight=class_weights\n",
    ")"
   ]
  },
  {
   "cell_type": "code",
   "execution_count": 23,
   "metadata": {},
   "outputs": [],
   "source": [
    "model.save(\"models/parentModel.keras\")"
   ]
  },
  {
   "cell_type": "code",
   "execution_count": null,
   "metadata": {},
   "outputs": [],
   "source": []
  }
 ],
 "metadata": {
  "kernelspec": {
   "display_name": "Python 3",
   "language": "python",
   "name": "python3"
  },
  "language_info": {
   "codemirror_mode": {
    "name": "ipython",
    "version": 3
   },
   "file_extension": ".py",
   "mimetype": "text/x-python",
   "name": "python",
   "nbconvert_exporter": "python",
   "pygments_lexer": "ipython3",
   "version": "3.12.4"
  }
 },
 "nbformat": 4,
 "nbformat_minor": 2
}
